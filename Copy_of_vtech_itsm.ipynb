{
  "nbformat": 4,
  "nbformat_minor": 0,
  "metadata": {
    "colab": {
      "provenance": [],
      "include_colab_link": true
    },
    "kernelspec": {
      "name": "python3",
      "display_name": "Python 3"
    },
    "language_info": {
      "name": "python"
    }
  },
  "cells": [
    {
      "cell_type": "markdown",
      "metadata": {
        "id": "view-in-github",
        "colab_type": "text"
      },
      "source": [
        "<a href=\"https://colab.research.google.com/github/gayatripadmani/Chatbot-Data-Classification-/blob/main/Copy_of_vtech_itsm.ipynb\" target=\"_parent\"><img src=\"https://colab.research.google.com/assets/colab-badge.svg\" alt=\"Open In Colab\"/></a>"
      ]
    },
    {
      "cell_type": "code",
      "execution_count": 1,
      "metadata": {
        "colab": {
          "base_uri": "https://localhost:8080/"
        },
        "id": "9M5gPbsCQiE_",
        "outputId": "cb08b32b-9c7c-460a-dfca-ba0ad03c5210"
      },
      "outputs": [
        {
          "output_type": "stream",
          "name": "stdout",
          "text": [
            "Drive already mounted at /content/drive; to attempt to forcibly remount, call drive.mount(\"/content/drive\", force_remount=True).\n"
          ]
        }
      ],
      "source": [
        "from google.colab import drive\n",
        "drive.mount('/content/drive')"
      ]
    },
    {
      "cell_type": "code",
      "source": [
        "%cd /content/drive/MyDrive/Colab Notebooks/vtech_itsm"
      ],
      "metadata": {
        "colab": {
          "base_uri": "https://localhost:8080/"
        },
        "id": "hZKedeQdTSV_",
        "outputId": "9750a673-6685-486d-c6ee-1e7781c88d68"
      },
      "execution_count": 2,
      "outputs": [
        {
          "output_type": "stream",
          "name": "stdout",
          "text": [
            "/content/drive/MyDrive/Colab Notebooks/vtech_itsm\n"
          ]
        }
      ]
    },
    {
      "cell_type": "code",
      "source": [
        "# Import libraries\n",
        "import pandas as pd\n",
        "import matplotlib.pyplot as plt\n",
        "import numpy as np\n",
        "import seaborn as sns\n",
        "import string\n",
        "import re\n",
        "import nltk\n",
        "import tensorflow as tf\n",
        "import tensorflow.keras as keras\n",
        "from nltk.corpus import stopwords\n",
        "from nltk.tokenize import word_tokenize\n",
        "from keras.preprocessing.text import Tokenizer\n",
        "from keras.preprocessing.sequence import pad_sequences\n",
        "from keras.preprocessing import sequence\n",
        "from sklearn.model_selection import train_test_split\n",
        "from keras.models import Sequential\n",
        "from keras.layers import Embedding, LSTM, Dense, Dropout, Conv1D, MaxPooling1D, Flatten, SpatialDropout1D, Bidirectional, GlobalMaxPooling1D\n",
        "from tensorflow.keras.utils import to_categorical\n",
        "from keras.optimizers import Adam\n",
        "from keras.callbacks import EarlyStopping, ModelCheckpoint, ReduceLROnPlateau\n",
        "from keras.models import load_model"
      ],
      "metadata": {
        "id": "KZL0mXXxVna0"
      },
      "execution_count": 3,
      "outputs": []
    },
    {
      "cell_type": "code",
      "source": [
        "# load dataset\n",
        "data = pd.read_csv('vtech_itsm_data.csv')"
      ],
      "metadata": {
        "id": "6DRMZgGUROwt"
      },
      "execution_count": 4,
      "outputs": []
    },
    {
      "cell_type": "code",
      "source": [
        "# top 5 rows display\n",
        "data.head()"
      ],
      "metadata": {
        "colab": {
          "base_uri": "https://localhost:8080/",
          "height": 206
        },
        "id": "rShWEc0ztRMa",
        "outputId": "2fa5735e-647d-4232-dc03-aff1e07e3682"
      },
      "execution_count": 5,
      "outputs": [
        {
          "output_type": "execute_result",
          "data": {
            "text/plain": [
              "                                phrases                intent_name\n",
              "0    Further Assistance is not Required  Further_Help_Not_Required\n",
              "1       dont require further assistance  Further_Help_Not_Required\n",
              "2             Further Help not required  Further_Help_Not_Required\n",
              "3  No, I don't need further assistance.  Further_Help_Not_Required\n",
              "4      don't require further assistance  Further_Help_Not_Required"
            ],
            "text/html": [
              "\n",
              "  <div id=\"df-5e756968-c01d-4ca6-b316-c0163bfc17f5\" class=\"colab-df-container\">\n",
              "    <div>\n",
              "<style scoped>\n",
              "    .dataframe tbody tr th:only-of-type {\n",
              "        vertical-align: middle;\n",
              "    }\n",
              "\n",
              "    .dataframe tbody tr th {\n",
              "        vertical-align: top;\n",
              "    }\n",
              "\n",
              "    .dataframe thead th {\n",
              "        text-align: right;\n",
              "    }\n",
              "</style>\n",
              "<table border=\"1\" class=\"dataframe\">\n",
              "  <thead>\n",
              "    <tr style=\"text-align: right;\">\n",
              "      <th></th>\n",
              "      <th>phrases</th>\n",
              "      <th>intent_name</th>\n",
              "    </tr>\n",
              "  </thead>\n",
              "  <tbody>\n",
              "    <tr>\n",
              "      <th>0</th>\n",
              "      <td>Further Assistance is not Required</td>\n",
              "      <td>Further_Help_Not_Required</td>\n",
              "    </tr>\n",
              "    <tr>\n",
              "      <th>1</th>\n",
              "      <td>dont require further assistance</td>\n",
              "      <td>Further_Help_Not_Required</td>\n",
              "    </tr>\n",
              "    <tr>\n",
              "      <th>2</th>\n",
              "      <td>Further Help not required</td>\n",
              "      <td>Further_Help_Not_Required</td>\n",
              "    </tr>\n",
              "    <tr>\n",
              "      <th>3</th>\n",
              "      <td>No, I don't need further assistance.</td>\n",
              "      <td>Further_Help_Not_Required</td>\n",
              "    </tr>\n",
              "    <tr>\n",
              "      <th>4</th>\n",
              "      <td>don't require further assistance</td>\n",
              "      <td>Further_Help_Not_Required</td>\n",
              "    </tr>\n",
              "  </tbody>\n",
              "</table>\n",
              "</div>\n",
              "    <div class=\"colab-df-buttons\">\n",
              "\n",
              "  <div class=\"colab-df-container\">\n",
              "    <button class=\"colab-df-convert\" onclick=\"convertToInteractive('df-5e756968-c01d-4ca6-b316-c0163bfc17f5')\"\n",
              "            title=\"Convert this dataframe to an interactive table.\"\n",
              "            style=\"display:none;\">\n",
              "\n",
              "  <svg xmlns=\"http://www.w3.org/2000/svg\" height=\"24px\" viewBox=\"0 -960 960 960\">\n",
              "    <path d=\"M120-120v-720h720v720H120Zm60-500h600v-160H180v160Zm220 220h160v-160H400v160Zm0 220h160v-160H400v160ZM180-400h160v-160H180v160Zm440 0h160v-160H620v160ZM180-180h160v-160H180v160Zm440 0h160v-160H620v160Z\"/>\n",
              "  </svg>\n",
              "    </button>\n",
              "\n",
              "  <style>\n",
              "    .colab-df-container {\n",
              "      display:flex;\n",
              "      gap: 12px;\n",
              "    }\n",
              "\n",
              "    .colab-df-convert {\n",
              "      background-color: #E8F0FE;\n",
              "      border: none;\n",
              "      border-radius: 50%;\n",
              "      cursor: pointer;\n",
              "      display: none;\n",
              "      fill: #1967D2;\n",
              "      height: 32px;\n",
              "      padding: 0 0 0 0;\n",
              "      width: 32px;\n",
              "    }\n",
              "\n",
              "    .colab-df-convert:hover {\n",
              "      background-color: #E2EBFA;\n",
              "      box-shadow: 0px 1px 2px rgba(60, 64, 67, 0.3), 0px 1px 3px 1px rgba(60, 64, 67, 0.15);\n",
              "      fill: #174EA6;\n",
              "    }\n",
              "\n",
              "    .colab-df-buttons div {\n",
              "      margin-bottom: 4px;\n",
              "    }\n",
              "\n",
              "    [theme=dark] .colab-df-convert {\n",
              "      background-color: #3B4455;\n",
              "      fill: #D2E3FC;\n",
              "    }\n",
              "\n",
              "    [theme=dark] .colab-df-convert:hover {\n",
              "      background-color: #434B5C;\n",
              "      box-shadow: 0px 1px 3px 1px rgba(0, 0, 0, 0.15);\n",
              "      filter: drop-shadow(0px 1px 2px rgba(0, 0, 0, 0.3));\n",
              "      fill: #FFFFFF;\n",
              "    }\n",
              "  </style>\n",
              "\n",
              "    <script>\n",
              "      const buttonEl =\n",
              "        document.querySelector('#df-5e756968-c01d-4ca6-b316-c0163bfc17f5 button.colab-df-convert');\n",
              "      buttonEl.style.display =\n",
              "        google.colab.kernel.accessAllowed ? 'block' : 'none';\n",
              "\n",
              "      async function convertToInteractive(key) {\n",
              "        const element = document.querySelector('#df-5e756968-c01d-4ca6-b316-c0163bfc17f5');\n",
              "        const dataTable =\n",
              "          await google.colab.kernel.invokeFunction('convertToInteractive',\n",
              "                                                    [key], {});\n",
              "        if (!dataTable) return;\n",
              "\n",
              "        const docLinkHtml = 'Like what you see? Visit the ' +\n",
              "          '<a target=\"_blank\" href=https://colab.research.google.com/notebooks/data_table.ipynb>data table notebook</a>'\n",
              "          + ' to learn more about interactive tables.';\n",
              "        element.innerHTML = '';\n",
              "        dataTable['output_type'] = 'display_data';\n",
              "        await google.colab.output.renderOutput(dataTable, element);\n",
              "        const docLink = document.createElement('div');\n",
              "        docLink.innerHTML = docLinkHtml;\n",
              "        element.appendChild(docLink);\n",
              "      }\n",
              "    </script>\n",
              "  </div>\n",
              "\n",
              "\n",
              "<div id=\"df-52d0cc8b-5e6b-47f0-a82c-84ac217dd52e\">\n",
              "  <button class=\"colab-df-quickchart\" onclick=\"quickchart('df-52d0cc8b-5e6b-47f0-a82c-84ac217dd52e')\"\n",
              "            title=\"Suggest charts\"\n",
              "            style=\"display:none;\">\n",
              "\n",
              "<svg xmlns=\"http://www.w3.org/2000/svg\" height=\"24px\"viewBox=\"0 0 24 24\"\n",
              "     width=\"24px\">\n",
              "    <g>\n",
              "        <path d=\"M19 3H5c-1.1 0-2 .9-2 2v14c0 1.1.9 2 2 2h14c1.1 0 2-.9 2-2V5c0-1.1-.9-2-2-2zM9 17H7v-7h2v7zm4 0h-2V7h2v10zm4 0h-2v-4h2v4z\"/>\n",
              "    </g>\n",
              "</svg>\n",
              "  </button>\n",
              "\n",
              "<style>\n",
              "  .colab-df-quickchart {\n",
              "      --bg-color: #E8F0FE;\n",
              "      --fill-color: #1967D2;\n",
              "      --hover-bg-color: #E2EBFA;\n",
              "      --hover-fill-color: #174EA6;\n",
              "      --disabled-fill-color: #AAA;\n",
              "      --disabled-bg-color: #DDD;\n",
              "  }\n",
              "\n",
              "  [theme=dark] .colab-df-quickchart {\n",
              "      --bg-color: #3B4455;\n",
              "      --fill-color: #D2E3FC;\n",
              "      --hover-bg-color: #434B5C;\n",
              "      --hover-fill-color: #FFFFFF;\n",
              "      --disabled-bg-color: #3B4455;\n",
              "      --disabled-fill-color: #666;\n",
              "  }\n",
              "\n",
              "  .colab-df-quickchart {\n",
              "    background-color: var(--bg-color);\n",
              "    border: none;\n",
              "    border-radius: 50%;\n",
              "    cursor: pointer;\n",
              "    display: none;\n",
              "    fill: var(--fill-color);\n",
              "    height: 32px;\n",
              "    padding: 0;\n",
              "    width: 32px;\n",
              "  }\n",
              "\n",
              "  .colab-df-quickchart:hover {\n",
              "    background-color: var(--hover-bg-color);\n",
              "    box-shadow: 0 1px 2px rgba(60, 64, 67, 0.3), 0 1px 3px 1px rgba(60, 64, 67, 0.15);\n",
              "    fill: var(--button-hover-fill-color);\n",
              "  }\n",
              "\n",
              "  .colab-df-quickchart-complete:disabled,\n",
              "  .colab-df-quickchart-complete:disabled:hover {\n",
              "    background-color: var(--disabled-bg-color);\n",
              "    fill: var(--disabled-fill-color);\n",
              "    box-shadow: none;\n",
              "  }\n",
              "\n",
              "  .colab-df-spinner {\n",
              "    border: 2px solid var(--fill-color);\n",
              "    border-color: transparent;\n",
              "    border-bottom-color: var(--fill-color);\n",
              "    animation:\n",
              "      spin 1s steps(1) infinite;\n",
              "  }\n",
              "\n",
              "  @keyframes spin {\n",
              "    0% {\n",
              "      border-color: transparent;\n",
              "      border-bottom-color: var(--fill-color);\n",
              "      border-left-color: var(--fill-color);\n",
              "    }\n",
              "    20% {\n",
              "      border-color: transparent;\n",
              "      border-left-color: var(--fill-color);\n",
              "      border-top-color: var(--fill-color);\n",
              "    }\n",
              "    30% {\n",
              "      border-color: transparent;\n",
              "      border-left-color: var(--fill-color);\n",
              "      border-top-color: var(--fill-color);\n",
              "      border-right-color: var(--fill-color);\n",
              "    }\n",
              "    40% {\n",
              "      border-color: transparent;\n",
              "      border-right-color: var(--fill-color);\n",
              "      border-top-color: var(--fill-color);\n",
              "    }\n",
              "    60% {\n",
              "      border-color: transparent;\n",
              "      border-right-color: var(--fill-color);\n",
              "    }\n",
              "    80% {\n",
              "      border-color: transparent;\n",
              "      border-right-color: var(--fill-color);\n",
              "      border-bottom-color: var(--fill-color);\n",
              "    }\n",
              "    90% {\n",
              "      border-color: transparent;\n",
              "      border-bottom-color: var(--fill-color);\n",
              "    }\n",
              "  }\n",
              "</style>\n",
              "\n",
              "  <script>\n",
              "    async function quickchart(key) {\n",
              "      const quickchartButtonEl =\n",
              "        document.querySelector('#' + key + ' button');\n",
              "      quickchartButtonEl.disabled = true;  // To prevent multiple clicks.\n",
              "      quickchartButtonEl.classList.add('colab-df-spinner');\n",
              "      try {\n",
              "        const charts = await google.colab.kernel.invokeFunction(\n",
              "            'suggestCharts', [key], {});\n",
              "      } catch (error) {\n",
              "        console.error('Error during call to suggestCharts:', error);\n",
              "      }\n",
              "      quickchartButtonEl.classList.remove('colab-df-spinner');\n",
              "      quickchartButtonEl.classList.add('colab-df-quickchart-complete');\n",
              "    }\n",
              "    (() => {\n",
              "      let quickchartButtonEl =\n",
              "        document.querySelector('#df-52d0cc8b-5e6b-47f0-a82c-84ac217dd52e button');\n",
              "      quickchartButtonEl.style.display =\n",
              "        google.colab.kernel.accessAllowed ? 'block' : 'none';\n",
              "    })();\n",
              "  </script>\n",
              "</div>\n",
              "\n",
              "    </div>\n",
              "  </div>\n"
            ],
            "application/vnd.google.colaboratory.intrinsic+json": {
              "type": "dataframe",
              "variable_name": "data",
              "summary": "{\n  \"name\": \"data\",\n  \"rows\": 11105,\n  \"fields\": [\n    {\n      \"column\": \"phrases\",\n      \"properties\": {\n        \"dtype\": \"string\",\n        \"num_unique_values\": 11037,\n        \"samples\": [\n          \"I would like to request that you eliminate the cache of the system\",\n          \"Please create an AD account for me as I want to add a new user to AD\",\n          \"Turn on Outlook's auto forwarding feature\"\n        ],\n        \"semantic_type\": \"\",\n        \"description\": \"\"\n      }\n    },\n    {\n      \"column\": \"intent_name\",\n      \"properties\": {\n        \"dtype\": \"category\",\n        \"num_unique_values\": 59,\n        \"samples\": [\n          \"Further_Help_Not_Required\",\n          \"Fn_AccessSupport_AuthorizeAccess_ADUser_AD\",\n          \"Fn_AppSupport_Disable_AutoForward_Outlook_OF\"\n        ],\n        \"semantic_type\": \"\",\n        \"description\": \"\"\n      }\n    }\n  ]\n}"
            }
          },
          "metadata": {},
          "execution_count": 5
        }
      ]
    },
    {
      "cell_type": "code",
      "source": [
        "data.sample(10)"
      ],
      "metadata": {
        "colab": {
          "base_uri": "https://localhost:8080/",
          "height": 363
        },
        "id": "v2mEEcH5TXtp",
        "outputId": "28ad64e3-798d-40f6-f494-d00802bfbb44"
      },
      "execution_count": 6,
      "outputs": [
        {
          "output_type": "execute_result",
          "data": {
            "text/plain": [
              "                                                phrases  \\\n",
              "7034        Items that have been deleted but not filled   \n",
              "846                           Can you deinstall program   \n",
              "564                     Display group policy operations   \n",
              "159        Can you aaddress me in adding new user to AD   \n",
              "6300  Could you please guide me on how to remove app...   \n",
              "1126            We require report on software inventory   \n",
              "802   In order to use a laptop, I must download soft...   \n",
              "5627  I would like to clean the temp files on the ma...   \n",
              "500                        Reset my AD account password   \n",
              "1031  I am curious about available programs on a mac...   \n",
              "\n",
              "                                intent_name  \n",
              "7034         Fn_Remove_All_Deleted_Items_OF  \n",
              "846   Fn_Software_UninstallSWApplication_SM  \n",
              "564   Fn_Perform_Group_Policy_Operations_AD  \n",
              "159        Fn_AccessSupport_CreateADUser_AD  \n",
              "6300      Fn_PerfImprovement_StartupApps_PI  \n",
              "1126  Fn_Software_InventorySWApplication_SM  \n",
              "802     Fn_Software_InstallSWApplication_SM  \n",
              "5627   Fn_PerfImprovement_RemoveTempFile_PI  \n",
              "500          Fn_AccessSupport_ResetPwdAD_AD  \n",
              "1031  Fn_Software_InventorySWApplication_SM  "
            ],
            "text/html": [
              "\n",
              "  <div id=\"df-1e4e14b2-c1f8-4507-acca-f0f35496a2c4\" class=\"colab-df-container\">\n",
              "    <div>\n",
              "<style scoped>\n",
              "    .dataframe tbody tr th:only-of-type {\n",
              "        vertical-align: middle;\n",
              "    }\n",
              "\n",
              "    .dataframe tbody tr th {\n",
              "        vertical-align: top;\n",
              "    }\n",
              "\n",
              "    .dataframe thead th {\n",
              "        text-align: right;\n",
              "    }\n",
              "</style>\n",
              "<table border=\"1\" class=\"dataframe\">\n",
              "  <thead>\n",
              "    <tr style=\"text-align: right;\">\n",
              "      <th></th>\n",
              "      <th>phrases</th>\n",
              "      <th>intent_name</th>\n",
              "    </tr>\n",
              "  </thead>\n",
              "  <tbody>\n",
              "    <tr>\n",
              "      <th>7034</th>\n",
              "      <td>Items that have been deleted but not filled</td>\n",
              "      <td>Fn_Remove_All_Deleted_Items_OF</td>\n",
              "    </tr>\n",
              "    <tr>\n",
              "      <th>846</th>\n",
              "      <td>Can you deinstall program</td>\n",
              "      <td>Fn_Software_UninstallSWApplication_SM</td>\n",
              "    </tr>\n",
              "    <tr>\n",
              "      <th>564</th>\n",
              "      <td>Display group policy operations</td>\n",
              "      <td>Fn_Perform_Group_Policy_Operations_AD</td>\n",
              "    </tr>\n",
              "    <tr>\n",
              "      <th>159</th>\n",
              "      <td>Can you aaddress me in adding new user to AD</td>\n",
              "      <td>Fn_AccessSupport_CreateADUser_AD</td>\n",
              "    </tr>\n",
              "    <tr>\n",
              "      <th>6300</th>\n",
              "      <td>Could you please guide me on how to remove app...</td>\n",
              "      <td>Fn_PerfImprovement_StartupApps_PI</td>\n",
              "    </tr>\n",
              "    <tr>\n",
              "      <th>1126</th>\n",
              "      <td>We require report on software inventory</td>\n",
              "      <td>Fn_Software_InventorySWApplication_SM</td>\n",
              "    </tr>\n",
              "    <tr>\n",
              "      <th>802</th>\n",
              "      <td>In order to use a laptop, I must download soft...</td>\n",
              "      <td>Fn_Software_InstallSWApplication_SM</td>\n",
              "    </tr>\n",
              "    <tr>\n",
              "      <th>5627</th>\n",
              "      <td>I would like to clean the temp files on the ma...</td>\n",
              "      <td>Fn_PerfImprovement_RemoveTempFile_PI</td>\n",
              "    </tr>\n",
              "    <tr>\n",
              "      <th>500</th>\n",
              "      <td>Reset my AD account password</td>\n",
              "      <td>Fn_AccessSupport_ResetPwdAD_AD</td>\n",
              "    </tr>\n",
              "    <tr>\n",
              "      <th>1031</th>\n",
              "      <td>I am curious about available programs on a mac...</td>\n",
              "      <td>Fn_Software_InventorySWApplication_SM</td>\n",
              "    </tr>\n",
              "  </tbody>\n",
              "</table>\n",
              "</div>\n",
              "    <div class=\"colab-df-buttons\">\n",
              "\n",
              "  <div class=\"colab-df-container\">\n",
              "    <button class=\"colab-df-convert\" onclick=\"convertToInteractive('df-1e4e14b2-c1f8-4507-acca-f0f35496a2c4')\"\n",
              "            title=\"Convert this dataframe to an interactive table.\"\n",
              "            style=\"display:none;\">\n",
              "\n",
              "  <svg xmlns=\"http://www.w3.org/2000/svg\" height=\"24px\" viewBox=\"0 -960 960 960\">\n",
              "    <path d=\"M120-120v-720h720v720H120Zm60-500h600v-160H180v160Zm220 220h160v-160H400v160Zm0 220h160v-160H400v160ZM180-400h160v-160H180v160Zm440 0h160v-160H620v160ZM180-180h160v-160H180v160Zm440 0h160v-160H620v160Z\"/>\n",
              "  </svg>\n",
              "    </button>\n",
              "\n",
              "  <style>\n",
              "    .colab-df-container {\n",
              "      display:flex;\n",
              "      gap: 12px;\n",
              "    }\n",
              "\n",
              "    .colab-df-convert {\n",
              "      background-color: #E8F0FE;\n",
              "      border: none;\n",
              "      border-radius: 50%;\n",
              "      cursor: pointer;\n",
              "      display: none;\n",
              "      fill: #1967D2;\n",
              "      height: 32px;\n",
              "      padding: 0 0 0 0;\n",
              "      width: 32px;\n",
              "    }\n",
              "\n",
              "    .colab-df-convert:hover {\n",
              "      background-color: #E2EBFA;\n",
              "      box-shadow: 0px 1px 2px rgba(60, 64, 67, 0.3), 0px 1px 3px 1px rgba(60, 64, 67, 0.15);\n",
              "      fill: #174EA6;\n",
              "    }\n",
              "\n",
              "    .colab-df-buttons div {\n",
              "      margin-bottom: 4px;\n",
              "    }\n",
              "\n",
              "    [theme=dark] .colab-df-convert {\n",
              "      background-color: #3B4455;\n",
              "      fill: #D2E3FC;\n",
              "    }\n",
              "\n",
              "    [theme=dark] .colab-df-convert:hover {\n",
              "      background-color: #434B5C;\n",
              "      box-shadow: 0px 1px 3px 1px rgba(0, 0, 0, 0.15);\n",
              "      filter: drop-shadow(0px 1px 2px rgba(0, 0, 0, 0.3));\n",
              "      fill: #FFFFFF;\n",
              "    }\n",
              "  </style>\n",
              "\n",
              "    <script>\n",
              "      const buttonEl =\n",
              "        document.querySelector('#df-1e4e14b2-c1f8-4507-acca-f0f35496a2c4 button.colab-df-convert');\n",
              "      buttonEl.style.display =\n",
              "        google.colab.kernel.accessAllowed ? 'block' : 'none';\n",
              "\n",
              "      async function convertToInteractive(key) {\n",
              "        const element = document.querySelector('#df-1e4e14b2-c1f8-4507-acca-f0f35496a2c4');\n",
              "        const dataTable =\n",
              "          await google.colab.kernel.invokeFunction('convertToInteractive',\n",
              "                                                    [key], {});\n",
              "        if (!dataTable) return;\n",
              "\n",
              "        const docLinkHtml = 'Like what you see? Visit the ' +\n",
              "          '<a target=\"_blank\" href=https://colab.research.google.com/notebooks/data_table.ipynb>data table notebook</a>'\n",
              "          + ' to learn more about interactive tables.';\n",
              "        element.innerHTML = '';\n",
              "        dataTable['output_type'] = 'display_data';\n",
              "        await google.colab.output.renderOutput(dataTable, element);\n",
              "        const docLink = document.createElement('div');\n",
              "        docLink.innerHTML = docLinkHtml;\n",
              "        element.appendChild(docLink);\n",
              "      }\n",
              "    </script>\n",
              "  </div>\n",
              "\n",
              "\n",
              "<div id=\"df-89d21cde-0188-455c-a219-27c056b8f5e3\">\n",
              "  <button class=\"colab-df-quickchart\" onclick=\"quickchart('df-89d21cde-0188-455c-a219-27c056b8f5e3')\"\n",
              "            title=\"Suggest charts\"\n",
              "            style=\"display:none;\">\n",
              "\n",
              "<svg xmlns=\"http://www.w3.org/2000/svg\" height=\"24px\"viewBox=\"0 0 24 24\"\n",
              "     width=\"24px\">\n",
              "    <g>\n",
              "        <path d=\"M19 3H5c-1.1 0-2 .9-2 2v14c0 1.1.9 2 2 2h14c1.1 0 2-.9 2-2V5c0-1.1-.9-2-2-2zM9 17H7v-7h2v7zm4 0h-2V7h2v10zm4 0h-2v-4h2v4z\"/>\n",
              "    </g>\n",
              "</svg>\n",
              "  </button>\n",
              "\n",
              "<style>\n",
              "  .colab-df-quickchart {\n",
              "      --bg-color: #E8F0FE;\n",
              "      --fill-color: #1967D2;\n",
              "      --hover-bg-color: #E2EBFA;\n",
              "      --hover-fill-color: #174EA6;\n",
              "      --disabled-fill-color: #AAA;\n",
              "      --disabled-bg-color: #DDD;\n",
              "  }\n",
              "\n",
              "  [theme=dark] .colab-df-quickchart {\n",
              "      --bg-color: #3B4455;\n",
              "      --fill-color: #D2E3FC;\n",
              "      --hover-bg-color: #434B5C;\n",
              "      --hover-fill-color: #FFFFFF;\n",
              "      --disabled-bg-color: #3B4455;\n",
              "      --disabled-fill-color: #666;\n",
              "  }\n",
              "\n",
              "  .colab-df-quickchart {\n",
              "    background-color: var(--bg-color);\n",
              "    border: none;\n",
              "    border-radius: 50%;\n",
              "    cursor: pointer;\n",
              "    display: none;\n",
              "    fill: var(--fill-color);\n",
              "    height: 32px;\n",
              "    padding: 0;\n",
              "    width: 32px;\n",
              "  }\n",
              "\n",
              "  .colab-df-quickchart:hover {\n",
              "    background-color: var(--hover-bg-color);\n",
              "    box-shadow: 0 1px 2px rgba(60, 64, 67, 0.3), 0 1px 3px 1px rgba(60, 64, 67, 0.15);\n",
              "    fill: var(--button-hover-fill-color);\n",
              "  }\n",
              "\n",
              "  .colab-df-quickchart-complete:disabled,\n",
              "  .colab-df-quickchart-complete:disabled:hover {\n",
              "    background-color: var(--disabled-bg-color);\n",
              "    fill: var(--disabled-fill-color);\n",
              "    box-shadow: none;\n",
              "  }\n",
              "\n",
              "  .colab-df-spinner {\n",
              "    border: 2px solid var(--fill-color);\n",
              "    border-color: transparent;\n",
              "    border-bottom-color: var(--fill-color);\n",
              "    animation:\n",
              "      spin 1s steps(1) infinite;\n",
              "  }\n",
              "\n",
              "  @keyframes spin {\n",
              "    0% {\n",
              "      border-color: transparent;\n",
              "      border-bottom-color: var(--fill-color);\n",
              "      border-left-color: var(--fill-color);\n",
              "    }\n",
              "    20% {\n",
              "      border-color: transparent;\n",
              "      border-left-color: var(--fill-color);\n",
              "      border-top-color: var(--fill-color);\n",
              "    }\n",
              "    30% {\n",
              "      border-color: transparent;\n",
              "      border-left-color: var(--fill-color);\n",
              "      border-top-color: var(--fill-color);\n",
              "      border-right-color: var(--fill-color);\n",
              "    }\n",
              "    40% {\n",
              "      border-color: transparent;\n",
              "      border-right-color: var(--fill-color);\n",
              "      border-top-color: var(--fill-color);\n",
              "    }\n",
              "    60% {\n",
              "      border-color: transparent;\n",
              "      border-right-color: var(--fill-color);\n",
              "    }\n",
              "    80% {\n",
              "      border-color: transparent;\n",
              "      border-right-color: var(--fill-color);\n",
              "      border-bottom-color: var(--fill-color);\n",
              "    }\n",
              "    90% {\n",
              "      border-color: transparent;\n",
              "      border-bottom-color: var(--fill-color);\n",
              "    }\n",
              "  }\n",
              "</style>\n",
              "\n",
              "  <script>\n",
              "    async function quickchart(key) {\n",
              "      const quickchartButtonEl =\n",
              "        document.querySelector('#' + key + ' button');\n",
              "      quickchartButtonEl.disabled = true;  // To prevent multiple clicks.\n",
              "      quickchartButtonEl.classList.add('colab-df-spinner');\n",
              "      try {\n",
              "        const charts = await google.colab.kernel.invokeFunction(\n",
              "            'suggestCharts', [key], {});\n",
              "      } catch (error) {\n",
              "        console.error('Error during call to suggestCharts:', error);\n",
              "      }\n",
              "      quickchartButtonEl.classList.remove('colab-df-spinner');\n",
              "      quickchartButtonEl.classList.add('colab-df-quickchart-complete');\n",
              "    }\n",
              "    (() => {\n",
              "      let quickchartButtonEl =\n",
              "        document.querySelector('#df-89d21cde-0188-455c-a219-27c056b8f5e3 button');\n",
              "      quickchartButtonEl.style.display =\n",
              "        google.colab.kernel.accessAllowed ? 'block' : 'none';\n",
              "    })();\n",
              "  </script>\n",
              "</div>\n",
              "\n",
              "    </div>\n",
              "  </div>\n"
            ],
            "application/vnd.google.colaboratory.intrinsic+json": {
              "type": "dataframe",
              "summary": "{\n  \"name\": \"data\",\n  \"rows\": 10,\n  \"fields\": [\n    {\n      \"column\": \"phrases\",\n      \"properties\": {\n        \"dtype\": \"string\",\n        \"num_unique_values\": 10,\n        \"samples\": [\n          \"Reset my AD account password\",\n          \"Can you deinstall program\",\n          \"We require report on software inventory\"\n        ],\n        \"semantic_type\": \"\",\n        \"description\": \"\"\n      }\n    },\n    {\n      \"column\": \"intent_name\",\n      \"properties\": {\n        \"dtype\": \"string\",\n        \"num_unique_values\": 9,\n        \"samples\": [\n          \"Fn_PerfImprovement_RemoveTempFile_PI\",\n          \"Fn_Software_UninstallSWApplication_SM\",\n          \"Fn_Software_InventorySWApplication_SM\"\n        ],\n        \"semantic_type\": \"\",\n        \"description\": \"\"\n      }\n    }\n  ]\n}"
            }
          },
          "metadata": {},
          "execution_count": 6
        }
      ]
    },
    {
      "cell_type": "code",
      "source": [
        "data.tail()"
      ],
      "metadata": {
        "colab": {
          "base_uri": "https://localhost:8080/",
          "height": 206
        },
        "id": "5VEHTk2_TZa5",
        "outputId": "19e3a691-b36a-4a34-aadd-3b4daf6525a5"
      },
      "execution_count": 7,
      "outputs": [
        {
          "output_type": "execute_result",
          "data": {
            "text/plain": [
              "                               phrases               intent_name\n",
              "11100                             Halt  Fn_Email_Assistant_Abort\n",
              "11101                             Quit  Fn_Email_Assistant_Abort\n",
              "11102              Drop the operation.  Fn_Email_Assistant_Abort\n",
              "11103        Put a halt to the process  Fn_Email_Assistant_Abort\n",
              "11104  Stop all operations immediately  Fn_Email_Assistant_Abort"
            ],
            "text/html": [
              "\n",
              "  <div id=\"df-846d76a7-baa6-4519-a6f3-122fdd887efb\" class=\"colab-df-container\">\n",
              "    <div>\n",
              "<style scoped>\n",
              "    .dataframe tbody tr th:only-of-type {\n",
              "        vertical-align: middle;\n",
              "    }\n",
              "\n",
              "    .dataframe tbody tr th {\n",
              "        vertical-align: top;\n",
              "    }\n",
              "\n",
              "    .dataframe thead th {\n",
              "        text-align: right;\n",
              "    }\n",
              "</style>\n",
              "<table border=\"1\" class=\"dataframe\">\n",
              "  <thead>\n",
              "    <tr style=\"text-align: right;\">\n",
              "      <th></th>\n",
              "      <th>phrases</th>\n",
              "      <th>intent_name</th>\n",
              "    </tr>\n",
              "  </thead>\n",
              "  <tbody>\n",
              "    <tr>\n",
              "      <th>11100</th>\n",
              "      <td>Halt</td>\n",
              "      <td>Fn_Email_Assistant_Abort</td>\n",
              "    </tr>\n",
              "    <tr>\n",
              "      <th>11101</th>\n",
              "      <td>Quit</td>\n",
              "      <td>Fn_Email_Assistant_Abort</td>\n",
              "    </tr>\n",
              "    <tr>\n",
              "      <th>11102</th>\n",
              "      <td>Drop the operation.</td>\n",
              "      <td>Fn_Email_Assistant_Abort</td>\n",
              "    </tr>\n",
              "    <tr>\n",
              "      <th>11103</th>\n",
              "      <td>Put a halt to the process</td>\n",
              "      <td>Fn_Email_Assistant_Abort</td>\n",
              "    </tr>\n",
              "    <tr>\n",
              "      <th>11104</th>\n",
              "      <td>Stop all operations immediately</td>\n",
              "      <td>Fn_Email_Assistant_Abort</td>\n",
              "    </tr>\n",
              "  </tbody>\n",
              "</table>\n",
              "</div>\n",
              "    <div class=\"colab-df-buttons\">\n",
              "\n",
              "  <div class=\"colab-df-container\">\n",
              "    <button class=\"colab-df-convert\" onclick=\"convertToInteractive('df-846d76a7-baa6-4519-a6f3-122fdd887efb')\"\n",
              "            title=\"Convert this dataframe to an interactive table.\"\n",
              "            style=\"display:none;\">\n",
              "\n",
              "  <svg xmlns=\"http://www.w3.org/2000/svg\" height=\"24px\" viewBox=\"0 -960 960 960\">\n",
              "    <path d=\"M120-120v-720h720v720H120Zm60-500h600v-160H180v160Zm220 220h160v-160H400v160Zm0 220h160v-160H400v160ZM180-400h160v-160H180v160Zm440 0h160v-160H620v160ZM180-180h160v-160H180v160Zm440 0h160v-160H620v160Z\"/>\n",
              "  </svg>\n",
              "    </button>\n",
              "\n",
              "  <style>\n",
              "    .colab-df-container {\n",
              "      display:flex;\n",
              "      gap: 12px;\n",
              "    }\n",
              "\n",
              "    .colab-df-convert {\n",
              "      background-color: #E8F0FE;\n",
              "      border: none;\n",
              "      border-radius: 50%;\n",
              "      cursor: pointer;\n",
              "      display: none;\n",
              "      fill: #1967D2;\n",
              "      height: 32px;\n",
              "      padding: 0 0 0 0;\n",
              "      width: 32px;\n",
              "    }\n",
              "\n",
              "    .colab-df-convert:hover {\n",
              "      background-color: #E2EBFA;\n",
              "      box-shadow: 0px 1px 2px rgba(60, 64, 67, 0.3), 0px 1px 3px 1px rgba(60, 64, 67, 0.15);\n",
              "      fill: #174EA6;\n",
              "    }\n",
              "\n",
              "    .colab-df-buttons div {\n",
              "      margin-bottom: 4px;\n",
              "    }\n",
              "\n",
              "    [theme=dark] .colab-df-convert {\n",
              "      background-color: #3B4455;\n",
              "      fill: #D2E3FC;\n",
              "    }\n",
              "\n",
              "    [theme=dark] .colab-df-convert:hover {\n",
              "      background-color: #434B5C;\n",
              "      box-shadow: 0px 1px 3px 1px rgba(0, 0, 0, 0.15);\n",
              "      filter: drop-shadow(0px 1px 2px rgba(0, 0, 0, 0.3));\n",
              "      fill: #FFFFFF;\n",
              "    }\n",
              "  </style>\n",
              "\n",
              "    <script>\n",
              "      const buttonEl =\n",
              "        document.querySelector('#df-846d76a7-baa6-4519-a6f3-122fdd887efb button.colab-df-convert');\n",
              "      buttonEl.style.display =\n",
              "        google.colab.kernel.accessAllowed ? 'block' : 'none';\n",
              "\n",
              "      async function convertToInteractive(key) {\n",
              "        const element = document.querySelector('#df-846d76a7-baa6-4519-a6f3-122fdd887efb');\n",
              "        const dataTable =\n",
              "          await google.colab.kernel.invokeFunction('convertToInteractive',\n",
              "                                                    [key], {});\n",
              "        if (!dataTable) return;\n",
              "\n",
              "        const docLinkHtml = 'Like what you see? Visit the ' +\n",
              "          '<a target=\"_blank\" href=https://colab.research.google.com/notebooks/data_table.ipynb>data table notebook</a>'\n",
              "          + ' to learn more about interactive tables.';\n",
              "        element.innerHTML = '';\n",
              "        dataTable['output_type'] = 'display_data';\n",
              "        await google.colab.output.renderOutput(dataTable, element);\n",
              "        const docLink = document.createElement('div');\n",
              "        docLink.innerHTML = docLinkHtml;\n",
              "        element.appendChild(docLink);\n",
              "      }\n",
              "    </script>\n",
              "  </div>\n",
              "\n",
              "\n",
              "<div id=\"df-5eeb0948-df0a-4b69-8cf0-5eedd2b8588b\">\n",
              "  <button class=\"colab-df-quickchart\" onclick=\"quickchart('df-5eeb0948-df0a-4b69-8cf0-5eedd2b8588b')\"\n",
              "            title=\"Suggest charts\"\n",
              "            style=\"display:none;\">\n",
              "\n",
              "<svg xmlns=\"http://www.w3.org/2000/svg\" height=\"24px\"viewBox=\"0 0 24 24\"\n",
              "     width=\"24px\">\n",
              "    <g>\n",
              "        <path d=\"M19 3H5c-1.1 0-2 .9-2 2v14c0 1.1.9 2 2 2h14c1.1 0 2-.9 2-2V5c0-1.1-.9-2-2-2zM9 17H7v-7h2v7zm4 0h-2V7h2v10zm4 0h-2v-4h2v4z\"/>\n",
              "    </g>\n",
              "</svg>\n",
              "  </button>\n",
              "\n",
              "<style>\n",
              "  .colab-df-quickchart {\n",
              "      --bg-color: #E8F0FE;\n",
              "      --fill-color: #1967D2;\n",
              "      --hover-bg-color: #E2EBFA;\n",
              "      --hover-fill-color: #174EA6;\n",
              "      --disabled-fill-color: #AAA;\n",
              "      --disabled-bg-color: #DDD;\n",
              "  }\n",
              "\n",
              "  [theme=dark] .colab-df-quickchart {\n",
              "      --bg-color: #3B4455;\n",
              "      --fill-color: #D2E3FC;\n",
              "      --hover-bg-color: #434B5C;\n",
              "      --hover-fill-color: #FFFFFF;\n",
              "      --disabled-bg-color: #3B4455;\n",
              "      --disabled-fill-color: #666;\n",
              "  }\n",
              "\n",
              "  .colab-df-quickchart {\n",
              "    background-color: var(--bg-color);\n",
              "    border: none;\n",
              "    border-radius: 50%;\n",
              "    cursor: pointer;\n",
              "    display: none;\n",
              "    fill: var(--fill-color);\n",
              "    height: 32px;\n",
              "    padding: 0;\n",
              "    width: 32px;\n",
              "  }\n",
              "\n",
              "  .colab-df-quickchart:hover {\n",
              "    background-color: var(--hover-bg-color);\n",
              "    box-shadow: 0 1px 2px rgba(60, 64, 67, 0.3), 0 1px 3px 1px rgba(60, 64, 67, 0.15);\n",
              "    fill: var(--button-hover-fill-color);\n",
              "  }\n",
              "\n",
              "  .colab-df-quickchart-complete:disabled,\n",
              "  .colab-df-quickchart-complete:disabled:hover {\n",
              "    background-color: var(--disabled-bg-color);\n",
              "    fill: var(--disabled-fill-color);\n",
              "    box-shadow: none;\n",
              "  }\n",
              "\n",
              "  .colab-df-spinner {\n",
              "    border: 2px solid var(--fill-color);\n",
              "    border-color: transparent;\n",
              "    border-bottom-color: var(--fill-color);\n",
              "    animation:\n",
              "      spin 1s steps(1) infinite;\n",
              "  }\n",
              "\n",
              "  @keyframes spin {\n",
              "    0% {\n",
              "      border-color: transparent;\n",
              "      border-bottom-color: var(--fill-color);\n",
              "      border-left-color: var(--fill-color);\n",
              "    }\n",
              "    20% {\n",
              "      border-color: transparent;\n",
              "      border-left-color: var(--fill-color);\n",
              "      border-top-color: var(--fill-color);\n",
              "    }\n",
              "    30% {\n",
              "      border-color: transparent;\n",
              "      border-left-color: var(--fill-color);\n",
              "      border-top-color: var(--fill-color);\n",
              "      border-right-color: var(--fill-color);\n",
              "    }\n",
              "    40% {\n",
              "      border-color: transparent;\n",
              "      border-right-color: var(--fill-color);\n",
              "      border-top-color: var(--fill-color);\n",
              "    }\n",
              "    60% {\n",
              "      border-color: transparent;\n",
              "      border-right-color: var(--fill-color);\n",
              "    }\n",
              "    80% {\n",
              "      border-color: transparent;\n",
              "      border-right-color: var(--fill-color);\n",
              "      border-bottom-color: var(--fill-color);\n",
              "    }\n",
              "    90% {\n",
              "      border-color: transparent;\n",
              "      border-bottom-color: var(--fill-color);\n",
              "    }\n",
              "  }\n",
              "</style>\n",
              "\n",
              "  <script>\n",
              "    async function quickchart(key) {\n",
              "      const quickchartButtonEl =\n",
              "        document.querySelector('#' + key + ' button');\n",
              "      quickchartButtonEl.disabled = true;  // To prevent multiple clicks.\n",
              "      quickchartButtonEl.classList.add('colab-df-spinner');\n",
              "      try {\n",
              "        const charts = await google.colab.kernel.invokeFunction(\n",
              "            'suggestCharts', [key], {});\n",
              "      } catch (error) {\n",
              "        console.error('Error during call to suggestCharts:', error);\n",
              "      }\n",
              "      quickchartButtonEl.classList.remove('colab-df-spinner');\n",
              "      quickchartButtonEl.classList.add('colab-df-quickchart-complete');\n",
              "    }\n",
              "    (() => {\n",
              "      let quickchartButtonEl =\n",
              "        document.querySelector('#df-5eeb0948-df0a-4b69-8cf0-5eedd2b8588b button');\n",
              "      quickchartButtonEl.style.display =\n",
              "        google.colab.kernel.accessAllowed ? 'block' : 'none';\n",
              "    })();\n",
              "  </script>\n",
              "</div>\n",
              "\n",
              "    </div>\n",
              "  </div>\n"
            ],
            "application/vnd.google.colaboratory.intrinsic+json": {
              "type": "dataframe",
              "summary": "{\n  \"name\": \"data\",\n  \"rows\": 5,\n  \"fields\": [\n    {\n      \"column\": \"phrases\",\n      \"properties\": {\n        \"dtype\": \"string\",\n        \"num_unique_values\": 5,\n        \"samples\": [\n          \"Quit\",\n          \"Stop all operations immediately\",\n          \"Drop the operation.\"\n        ],\n        \"semantic_type\": \"\",\n        \"description\": \"\"\n      }\n    },\n    {\n      \"column\": \"intent_name\",\n      \"properties\": {\n        \"dtype\": \"category\",\n        \"num_unique_values\": 1,\n        \"samples\": [\n          \"Fn_Email_Assistant_Abort\"\n        ],\n        \"semantic_type\": \"\",\n        \"description\": \"\"\n      }\n    }\n  ]\n}"
            }
          },
          "metadata": {},
          "execution_count": 7
        }
      ]
    },
    {
      "cell_type": "code",
      "source": [
        "# shape of the data\n",
        "print(\"Shape of data: \", data.shape)"
      ],
      "metadata": {
        "colab": {
          "base_uri": "https://localhost:8080/"
        },
        "id": "gIR439JWT_cO",
        "outputId": "e62182a9-c4cd-42f5-f7e7-150ff5cb82bc"
      },
      "execution_count": 8,
      "outputs": [
        {
          "output_type": "stream",
          "name": "stdout",
          "text": [
            "Shape of data:  (11105, 2)\n"
          ]
        }
      ]
    },
    {
      "cell_type": "code",
      "source": [
        "# columns name\n",
        "data.columns"
      ],
      "metadata": {
        "colab": {
          "base_uri": "https://localhost:8080/"
        },
        "id": "PffOscyJTe4p",
        "outputId": "1a972263-4fc8-4b6d-eb59-6d8b7b115224"
      },
      "execution_count": 9,
      "outputs": [
        {
          "output_type": "execute_result",
          "data": {
            "text/plain": [
              "Index(['phrases', 'intent_name'], dtype='object')"
            ]
          },
          "metadata": {},
          "execution_count": 9
        }
      ]
    },
    {
      "cell_type": "code",
      "source": [
        "# check null valules\n",
        "data.isnull().sum()"
      ],
      "metadata": {
        "colab": {
          "base_uri": "https://localhost:8080/"
        },
        "id": "sEHiouqzThxJ",
        "outputId": "3fa95799-8bad-422a-8696-8f099ae55cff"
      },
      "execution_count": 10,
      "outputs": [
        {
          "output_type": "execute_result",
          "data": {
            "text/plain": [
              "phrases        0\n",
              "intent_name    0\n",
              "dtype: int64"
            ]
          },
          "metadata": {},
          "execution_count": 10
        }
      ]
    },
    {
      "cell_type": "code",
      "source": [
        "# information of the data\n",
        "data.info()"
      ],
      "metadata": {
        "colab": {
          "base_uri": "https://localhost:8080/"
        },
        "id": "9DImnHUHTvJp",
        "outputId": "039db084-57ec-455f-bbf6-4fdaf6b522c8"
      },
      "execution_count": 11,
      "outputs": [
        {
          "output_type": "stream",
          "name": "stdout",
          "text": [
            "<class 'pandas.core.frame.DataFrame'>\n",
            "RangeIndex: 11105 entries, 0 to 11104\n",
            "Data columns (total 2 columns):\n",
            " #   Column       Non-Null Count  Dtype \n",
            "---  ------       --------------  ----- \n",
            " 0   phrases      11105 non-null  object\n",
            " 1   intent_name  11105 non-null  object\n",
            "dtypes: object(2)\n",
            "memory usage: 173.6+ KB\n"
          ]
        }
      ]
    },
    {
      "cell_type": "code",
      "source": [
        "# check duplicates value\n",
        "data.duplicated().sum()"
      ],
      "metadata": {
        "colab": {
          "base_uri": "https://localhost:8080/"
        },
        "id": "_xjYVRClTxa5",
        "outputId": "0e5f6164-88bd-49af-ba29-71438cf50592"
      },
      "execution_count": 12,
      "outputs": [
        {
          "output_type": "execute_result",
          "data": {
            "text/plain": [
              "67"
            ]
          },
          "metadata": {},
          "execution_count": 12
        }
      ]
    },
    {
      "cell_type": "code",
      "source": [
        "# Drop duplicate value\n",
        "\n",
        "data.drop_duplicates(inplace=True)"
      ],
      "metadata": {
        "id": "2KLwP5HmT0tp"
      },
      "execution_count": 13,
      "outputs": []
    },
    {
      "cell_type": "code",
      "source": [
        "# Shape of data after drop duplicate values\n",
        "print(\"Shape of data: \", data.shape)"
      ],
      "metadata": {
        "colab": {
          "base_uri": "https://localhost:8080/"
        },
        "id": "vLmX8s_XT6UZ",
        "outputId": "d1a5a009-d5bd-4265-aa6a-e9372c41adc7"
      },
      "execution_count": 14,
      "outputs": [
        {
          "output_type": "stream",
          "name": "stdout",
          "text": [
            "Shape of data:  (11038, 2)\n"
          ]
        }
      ]
    },
    {
      "cell_type": "code",
      "source": [
        "# check unique values of intent_name\n",
        "data['intent_name'].unique()"
      ],
      "metadata": {
        "colab": {
          "base_uri": "https://localhost:8080/"
        },
        "id": "RR6saIcKUD6p",
        "outputId": "5f336f9b-5201-4cf3-c091-345732eb3de3"
      },
      "execution_count": 15,
      "outputs": [
        {
          "output_type": "execute_result",
          "data": {
            "text/plain": [
              "array(['Further_Help_Not_Required', 'Further_Help_Required',\n",
              "       'FnIT_MainMenu', 'Fn_Perform_AD_Operations_AD',\n",
              "       'Fn_AccessSupport_CreateADUser_AD',\n",
              "       'Fn_AccessSupport_AuthorizeAccess_ADUser_AD',\n",
              "       'Fn_AccessSupport_DisableADUser_AD',\n",
              "       'Fn_AccessSupport_EnableADUser_AD',\n",
              "       'Fn_AccessSupport_ResetPwdAD_AD',\n",
              "       'Fn_AccessSupport_UpdateADUser_AD',\n",
              "       'Fn_Perform_Group_Policy_Operations_AD',\n",
              "       'Fn_AccessSupport_ApplyGP_OU_AD',\n",
              "       'Fn_AccessSupport_UnassignGP_OU_AD',\n",
              "       'Fn_Perform_Software_Managment_Operations_SM',\n",
              "       'Fn_Software_InstallSWApplication_SM',\n",
              "       'Fn_Software_UninstallSWApplication_SM',\n",
              "       'Fn_Software_UpgradeSWApplication_SM',\n",
              "       'Fn_Software_InventorySWApplication_SM',\n",
              "       'Fn_Perform_Performance_Improvement_Operations_PI',\n",
              "       'Fn_PerfImprovement_PerfCheck_PI',\n",
              "       'Fn_PerfImprovement_RemoveTempFile_PI',\n",
              "       'Fn_PerfImprovement_HistoryClear_PI',\n",
              "       'Fn_PerfImprovement_CacheClear_PI',\n",
              "       'Fn_PerfImprovement_CookiesClean_PI',\n",
              "       'Fn_PerfImprovement_DiskDefrag_PI',\n",
              "       'Fn_PerfImprovement_DiskCleanup_PI',\n",
              "       'Fn_PerfImprovement_StartupApps_PI',\n",
              "       'Fn_PerfImprovement_High_Utilized_Processes_PI',\n",
              "       'Fn_Infrastructure_Inventory_Report_PI',\n",
              "       'Fn_Perform_Outlook_Operations_OF', 'Fn_Mail_Box_Full_OF',\n",
              "       'Fn_Remove_All_Deleted_Items_OF',\n",
              "       'Fn_Outlook_Auto_Forward_Operations',\n",
              "       'Fn_AppSupport_AutoForward_Outlook_OF',\n",
              "       'Fn_AppSupport_Disable_AutoForward_Outlook_OF',\n",
              "       'Fn_Outlook_Auto_Response_Operations',\n",
              "       'Fn_AppSupport_Autoresponse_Outlook_OF',\n",
              "       'Fn_AppSupport_Disable_Autoresponse_Outlook_OF',\n",
              "       'Fn_Authorize_AzureAD_User_ELDL',\n",
              "       'Fn_Perform_Businessemail_Operations_ELDL', 'Fn_Change_Computer',\n",
              "       'Fn_Email_Assistant_Abort', 'Fn_Connect_to_human_agent',\n",
              "       'Fn_Businessemail_CreateUser_ELDL',\n",
              "       'Fn_Businessemail_UpdateUser_ELDL',\n",
              "       'Fn_Businessemail_DeleteUser_ELDL',\n",
              "       'Fn_Businessemail_CreateGroup_ELDL',\n",
              "       'Fn_Businessemail_UpdateGroup_ELDL',\n",
              "       'Fn_Businessemail_DeleteGroup_ELDL',\n",
              "       'Fn_Businessemail_AssignUserToGroup_ELDL',\n",
              "       'Fn_Businessemail_RemUserFromGroup_ELDL',\n",
              "       'Fn_Businessemail_CreateGroup_ELDL_DL',\n",
              "       'Fn_Businessemail_UpdateInfoGroup_ELDL_DL',\n",
              "       'Fn_Businessemail_DeleteGroup_ELDL_DL',\n",
              "       'Fn_Businessemail_AssignUserToGroup_ELDL_DL',\n",
              "       'Fn_Businessemail_RemUserFromGroup_ELDL_DL',\n",
              "       'Default Welcome Intent', 'quit',\n",
              "       'Fn_msteams_human_agent_creation'], dtype=object)"
            ]
          },
          "metadata": {},
          "execution_count": 15
        }
      ]
    },
    {
      "cell_type": "code",
      "source": [
        "data['intent_name'].value_counts()"
      ],
      "metadata": {
        "colab": {
          "base_uri": "https://localhost:8080/"
        },
        "id": "YKXWIYpyUQz4",
        "outputId": "5319aad7-0729-41e8-a1b9-8d3a7b5cf090"
      },
      "execution_count": 16,
      "outputs": [
        {
          "output_type": "execute_result",
          "data": {
            "text/plain": [
              "intent_name\n",
              "Fn_PerfImprovement_DiskDefrag_PI                    324\n",
              "Fn_Businessemail_UpdateGroup_ELDL                   253\n",
              "Fn_Email_Assistant_Abort                            253\n",
              "Fn_Businessemail_AssignUserToGroup_ELDL             248\n",
              "Fn_Remove_All_Deleted_Items_OF                      247\n",
              "Fn_Software_UninstallSWApplication_SM               242\n",
              "Fn_Software_InstallSWApplication_SM                 239\n",
              "Fn_AppSupport_Disable_Autoresponse_Outlook_OF       239\n",
              "Fn_PerfImprovement_HistoryClear_PI                  235\n",
              "Fn_AccessSupport_UpdateADUser_AD                    235\n",
              "Fn_Businessemail_DeleteGroup_ELDL_DL                233\n",
              "Fn_Businessemail_CreateUser_ELDL                    232\n",
              "Fn_AppSupport_AutoForward_Outlook_OF                229\n",
              "Fn_AccessSupport_CreateADUser_AD                    229\n",
              "Fn_Mail_Box_Full_OF                                 227\n",
              "Fn_AccessSupport_ApplyGP_OU_AD                      226\n",
              "Fn_AppSupport_Disable_AutoForward_Outlook_OF        226\n",
              "Fn_Perform_Outlook_Operations_OF                    225\n",
              "Fn_Businessemail_UpdateInfoGroup_ELDL_DL            224\n",
              "Fn_AppSupport_Autoresponse_Outlook_OF               224\n",
              "Fn_Businessemail_RemUserFromGroup_ELDL_DL           222\n",
              "Fn_PerfImprovement_DiskCleanup_PI                   220\n",
              "Fn_AccessSupport_UnassignGP_OU_AD                   220\n",
              "Fn_Businessemail_DeleteUser_ELDL                    219\n",
              "Fn_Perform_Businessemail_Operations_ELDL            213\n",
              "Fn_PerfImprovement_CacheClear_PI                    212\n",
              "Fn_Businessemail_RemUserFromGroup_ELDL              212\n",
              "Fn_Businessemail_DeleteGroup_ELDL                   211\n",
              "Fn_Outlook_Auto_Response_Operations                 210\n",
              "Fn_Businessemail_CreateGroup_ELDL_DL                209\n",
              "Fn_Connect_to_human_agent                           209\n",
              "Fn_PerfImprovement_StartupApps_PI                   208\n",
              "Fn_Perform_AD_Operations_AD                         206\n",
              "Fn_PerfImprovement_High_Utilized_Processes_PI       203\n",
              "Fn_Perform_Performance_Improvement_Operations_PI    200\n",
              "Fn_AccessSupport_DisableADUser_AD                   199\n",
              "Fn_Perform_Software_Managment_Operations_SM         197\n",
              "Fn_Businessemail_AssignUserToGroup_ELDL_DL          196\n",
              "Fn_PerfImprovement_RemoveTempFile_PI                195\n",
              "FnIT_MainMenu                                       191\n",
              "Fn_PerfImprovement_CookiesClean_PI                  189\n",
              "Fn_Businessemail_CreateGroup_ELDL                   185\n",
              "Fn_Outlook_Auto_Forward_Operations                  184\n",
              "Fn_Perform_Group_Policy_Operations_AD               184\n",
              "Fn_Software_UpgradeSWApplication_SM                 181\n",
              "Fn_AccessSupport_ResetPwdAD_AD                      177\n",
              "Fn_Businessemail_UpdateUser_ELDL                    176\n",
              "Fn_Infrastructure_Inventory_Report_PI               174\n",
              "Fn_PerfImprovement_PerfCheck_PI                     169\n",
              "Fn_AccessSupport_EnableADUser_AD                    155\n",
              "Fn_Software_InventorySWApplication_SM               138\n",
              "Fn_msteams_human_agent_creation                      77\n",
              "Fn_Change_Computer                                   33\n",
              "quit                                                 23\n",
              "Further_Help_Required                                17\n",
              "Fn_Authorize_AzureAD_User_ELDL                       11\n",
              "Fn_AccessSupport_AuthorizeAccess_ADUser_AD           11\n",
              "Default Welcome Intent                                7\n",
              "Further_Help_Not_Required                             5\n",
              "Name: count, dtype: int64"
            ]
          },
          "metadata": {},
          "execution_count": 16
        }
      ]
    },
    {
      "cell_type": "code",
      "source": [
        "len(data['intent_name'].unique())"
      ],
      "metadata": {
        "colab": {
          "base_uri": "https://localhost:8080/"
        },
        "id": "8os31o1f-8aB",
        "outputId": "1de29df9-dc31-4237-f9ac-69739f02ed75"
      },
      "execution_count": 17,
      "outputs": [
        {
          "output_type": "execute_result",
          "data": {
            "text/plain": [
              "59"
            ]
          },
          "metadata": {},
          "execution_count": 17
        }
      ]
    },
    {
      "cell_type": "code",
      "source": [
        "#plotting the graph\n",
        "\n",
        "plt.figure(figsize=(10,5))\n",
        "data['intent_name'].value_counts()[:10].plot(kind='barh')\n",
        "plt.title('intent_name column')\n",
        "plt.xlabel('count')\n",
        "plt.ylabel('intent_name')\n",
        "plt.show()"
      ],
      "metadata": {
        "colab": {
          "base_uri": "https://localhost:8080/",
          "height": 461
        },
        "id": "q0-AsNtKUmAp",
        "outputId": "ab52c3d2-4e42-4272-a22f-f8a7383ca7db"
      },
      "execution_count": 18,
      "outputs": [
        {
          "output_type": "display_data",
          "data": {
            "text/plain": [
              "<Figure size 1000x500 with 1 Axes>"
            ],
            "image/png": "[encoded data removed]"
          },
          "metadata": {}
        }
      ]
    },
    {
      "cell_type": "code",
      "source": [
        "def print_message(index):\n",
        "    example = data[data.index == index][['phrases', 'intent_name']].values[0]\n",
        "    if len(example) > 0:\n",
        "        print(example[0])\n",
        "        print('phrases:', example[1])\n",
        "\n",
        "print_message(25)"
      ],
      "metadata": {
        "colab": {
          "base_uri": "https://localhost:8080/"
        },
        "id": "3F4y2nJeVhrR",
        "outputId": "2b9c0387-5013-4ab6-93d2-508a785b7c7c"
      },
      "execution_count": 19,
      "outputs": [
        {
          "output_type": "stream",
          "name": "stdout",
          "text": [
            "List out number of IT services provided by company\n",
            "phrases: FnIT_MainMenu\n"
          ]
        }
      ]
    },
    {
      "cell_type": "code",
      "source": [
        "print_message(5)"
      ],
      "metadata": {
        "colab": {
          "base_uri": "https://localhost:8080/"
        },
        "id": "U3T-cjtqYiq8",
        "outputId": "30b96c06-df39-495f-8f8d-32db9ead4a82"
      },
      "execution_count": 20,
      "outputs": [
        {
          "output_type": "stream",
          "name": "stdout",
          "text": [
            "Further Assistance is Required\n",
            "phrases: Further_Help_Required\n"
          ]
        }
      ]
    },
    {
      "cell_type": "code",
      "source": [
        "nltk.download('stopwords')\n",
        "\n",
        "def clean_text(text):\n",
        "    text = text.lower()  # Convert to lowercase\n",
        "    text = re.sub(r'\\d+', '', text)  # Remove numbers\n",
        "    text = re.sub(r'[^\\w\\s]', '', text)  # Remove punctuation\n",
        "    text = ' '.join([word for word in text.split() if word not in stopwords.words('english')])  # Remove stopwords\n",
        "    return text\n",
        "\n",
        "\n",
        "# Apply cleaning\n",
        "data['clean_text'] = data['phrases'].apply(clean_text)\n",
        "data['clean_text']"
      ],
      "metadata": {
        "colab": {
          "base_uri": "https://localhost:8080/"
        },
        "id": "2cnGHHGbv0sk",
        "outputId": "5c1138f6-02d7-47d6-b745-aa3e17ef01ef"
      },
      "execution_count": 21,
      "outputs": [
        {
          "output_type": "stream",
          "name": "stderr",
          "text": [
            "[nltk_data] Downloading package stopwords to /root/nltk_data...\n",
            "[nltk_data]   Package stopwords is already up-to-date!\n"
          ]
        },
        {
          "output_type": "execute_result",
          "data": {
            "text/plain": [
              "0                assistance required\n",
              "1            dont require assistance\n",
              "2                      help required\n",
              "3               dont need assistance\n",
              "4            dont require assistance\n",
              "                    ...             \n",
              "11100                           halt\n",
              "11101                           quit\n",
              "11102                 drop operation\n",
              "11103               put halt process\n",
              "11104    stop operations immediately\n",
              "Name: clean_text, Length: 11038, dtype: object"
            ]
          },
          "metadata": {},
          "execution_count": 21
        }
      ]
    },
    {
      "cell_type": "code",
      "source": [
        "# Separate X and y\n",
        "\n",
        "X = data['clean_text']\n",
        "y = pd.get_dummies(data['intent_name'])"
      ],
      "metadata": {
        "id": "5lkJDeczxCS6"
      },
      "execution_count": 22,
      "outputs": []
    },
    {
      "cell_type": "code",
      "source": [
        "print(\"Shape of X:\",X.shape)\n",
        "print(\"Shape of y:\",y.shape)"
      ],
      "metadata": {
        "colab": {
          "base_uri": "https://localhost:8080/"
        },
        "id": "ZHRMINhR2cgH",
        "outputId": "996bd6d4-6b54-4751-eba4-76c0529d6f39"
      },
      "execution_count": 23,
      "outputs": [
        {
          "output_type": "stream",
          "name": "stdout",
          "text": [
            "Shape of X: (11038,)\n",
            "Shape of y: (11038, 59)\n"
          ]
        }
      ]
    },
    {
      "cell_type": "code",
      "source": [
        "# Tokenize the text\n",
        "\n",
        "max_features = 5000\n",
        "tokenizer = Tokenizer(num_words=max_features, oov_token=\"<OOV>\")\n",
        "tokenizer.fit_on_texts(X)"
      ],
      "metadata": {
        "id": "J_XnvkTTzvaM"
      },
      "execution_count": 25,
      "outputs": []
    },
    {
      "cell_type": "code",
      "source": [
        "X"
      ],
      "metadata": {
        "colab": {
          "base_uri": "https://localhost:8080/"
        },
        "id": "iJm--uZh-VuG",
        "outputId": "1eae70a8-50b2-48fb-b96b-a0f4adf5b615"
      },
      "execution_count": 26,
      "outputs": [
        {
          "output_type": "execute_result",
          "data": {
            "text/plain": [
              "0                assistance required\n",
              "1            dont require assistance\n",
              "2                      help required\n",
              "3               dont need assistance\n",
              "4            dont require assistance\n",
              "                    ...             \n",
              "11100                           halt\n",
              "11101                           quit\n",
              "11102                 drop operation\n",
              "11103               put halt process\n",
              "11104    stop operations immediately\n",
              "Name: clean_text, Length: 11038, dtype: object"
            ]
          },
          "metadata": {},
          "execution_count": 26
        }
      ]
    },
    {
      "cell_type": "code",
      "source": [
        "Tokenizer_vocab_size = len(tokenizer.word_index) + 1\n",
        "print(\"Tokenizer vocabulary size:\",Tokenizer_vocab_size)"
      ],
      "metadata": {
        "colab": {
          "base_uri": "https://localhost:8080/"
        },
        "id": "Vw3CSk7e4GoJ",
        "outputId": "a63e3ead-f364-4f60-e237-46d87473b001"
      },
      "execution_count": 27,
      "outputs": [
        {
          "output_type": "stream",
          "name": "stdout",
          "text": [
            "Tokenizer vocabulary size: 1624\n"
          ]
        }
      ]
    },
    {
      "cell_type": "code",
      "source": [
        "len(max(X, key=len))"
      ],
      "metadata": {
        "colab": {
          "base_uri": "https://localhost:8080/"
        },
        "id": "2_zOV3Sz4YNv",
        "outputId": "fdb9ac5c-7f71-49e5-d4c1-62fd7c7de28f"
      },
      "execution_count": 28,
      "outputs": [
        {
          "output_type": "execute_result",
          "data": {
            "text/plain": [
              "138"
            ]
          },
          "metadata": {},
          "execution_count": 28
        }
      ]
    },
    {
      "cell_type": "code",
      "source": [
        "print(\"(Input->Sentence) Length of X:\",X.shape) # Input -> Input\n",
        "print(\"(output->Labels) Length of y:\",y.shape) # output -> Labels"
      ],
      "metadata": {
        "colab": {
          "base_uri": "https://localhost:8080/"
        },
        "id": "GRL6p10c4jMX",
        "outputId": "2721618f-ad30-4d85-9e66-437ba59a7e43"
      },
      "execution_count": 29,
      "outputs": [
        {
          "output_type": "stream",
          "name": "stdout",
          "text": [
            "(Input->Sentence) Length of X: (11038,)\n",
            "(output->Labels) Length of y: (11038, 59)\n"
          ]
        }
      ]
    },
    {
      "cell_type": "code",
      "source": [
        "X_train, X_val, y_train, y_val = train_test_split(X, y, test_size=0.3, random_state=42)\n",
        "\n",
        "print(f\"X_train shape: {X_train.shape}, y_train shape: {y_train.shape}\")\n",
        "print(f\"X_val shape: {X_val.shape}, y_val shape: {y_val.shape}\")"
      ],
      "metadata": {
        "colab": {
          "base_uri": "https://localhost:8080/"
        },
        "id": "15CK9KvTThoC",
        "outputId": "f725c7ae-a632-47f6-81b3-896a0625347c"
      },
      "execution_count": 30,
      "outputs": [
        {
          "output_type": "stream",
          "name": "stdout",
          "text": [
            "X_train shape: (7726,), y_train shape: (7726, 59)\n",
            "X_val shape: (3312,), y_val shape: (3312, 59)\n"
          ]
        }
      ]
    },
    {
      "cell_type": "code",
      "source": [
        "print(\"(Input->Sentence) Length of X_train:\",X_train.shape) # Input -> Input\n",
        "print(\"(output->Labels) Length of y_train:\",y_train.shape) # output -> Labels"
      ],
      "metadata": {
        "colab": {
          "base_uri": "https://localhost:8080/"
        },
        "id": "tAqG9tKc5vtU",
        "outputId": "ac6fbff5-0bf5-4e0d-9fc0-3b00b9460b61"
      },
      "execution_count": 31,
      "outputs": [
        {
          "output_type": "stream",
          "name": "stdout",
          "text": [
            "(Input->Sentence) Length of X_train: (7726,)\n",
            "(output->Labels) Length of y_train: (7726, 59)\n"
          ]
        }
      ]
    },
    {
      "cell_type": "code",
      "source": [
        "# Encoding Operation--->Turn text into a numerical array(using Tokenizer.texts_to_sequences)--->Uses Tokenizer_word_index.\n",
        "X_train_encoded_words = tokenizer.texts_to_sequences(X_train)\n",
        "X_val_encoded_words = tokenizer.texts_to_sequences(X_val)"
      ],
      "metadata": {
        "id": "AYR6tmqp5yrq"
      },
      "execution_count": 32,
      "outputs": []
    },
    {
      "cell_type": "code",
      "source": [
        "print(\"(output->Labels) Length of Y_train:\",y_train.shape) # output -> Labelsprint(\"(Input->Sentence) Length of X_train:\",len(X_train_encoded_words)) # Input -> Input"
      ],
      "metadata": {
        "colab": {
          "base_uri": "https://localhost:8080/"
        },
        "id": "nHXendvG6Wj-",
        "outputId": "3b2e2fbf-5cac-4657-9a0d-24526639aa4e"
      },
      "execution_count": 33,
      "outputs": [
        {
          "output_type": "stream",
          "name": "stdout",
          "text": [
            "(output->Labels) Length of Y_train: (7726, 59)\n"
          ]
        }
      ]
    },
    {
      "cell_type": "code",
      "source": [
        "max_len = 100\n",
        "\n",
        "X_train_encoded_padded_words = pad_sequences(X_train_encoded_words, maxlen=max_len, padding='post')\n",
        "X_val_encoded_padded_words = pad_sequences(X_val_encoded_words, maxlen=max_len, padding='post')"
      ],
      "metadata": {
        "id": "kJw4n5D_3xl_"
      },
      "execution_count": 35,
      "outputs": []
    },
    {
      "cell_type": "code",
      "source": [
        "print(\"(Input->Sentence) Length of X_train:\",X_train_encoded_padded_words.shape) # Input -> Input\n",
        "print(\"(output->Labels) Length of y_train:\",y_train.shape) # output -> Labels"
      ],
      "metadata": {
        "colab": {
          "base_uri": "https://localhost:8080/"
        },
        "id": "5xDLFx4m0DhX",
        "outputId": "ad3b86f4-603f-42f6-b00c-6d84f4f8b0f5"
      },
      "execution_count": 36,
      "outputs": [
        {
          "output_type": "stream",
          "name": "stdout",
          "text": [
            "(Input->Sentence) Length of X_train: (7726, 100)\n",
            "(output->Labels) Length of y_train: (7726, 59)\n"
          ]
        }
      ]
    },
    {
      "cell_type": "code",
      "source": [
        "X_train_encoded_padded_words"
      ],
      "metadata": {
        "colab": {
          "base_uri": "https://localhost:8080/"
        },
        "id": "HlDfhPn0-tif",
        "outputId": "30f9f31a-d53c-4fce-f35a-a300bc38a984"
      },
      "execution_count": 37,
      "outputs": [
        {
          "output_type": "execute_result",
          "data": {
            "text/plain": [
              "array([[  46,  224,    5, ...,    0,    0,    0],\n",
              "       [  22,   55,   18, ...,    0,    0,    0],\n",
              "       [  17,  224,  430, ...,    0,    0,    0],\n",
              "       ...,\n",
              "       [1336,   28,  741, ...,    0,    0,    0],\n",
              "       [  12,   25,   40, ...,    0,    0,    0],\n",
              "       [  22,    4,  166, ...,    0,    0,    0]], dtype=int32)"
            ]
          },
          "metadata": {},
          "execution_count": 37
        }
      ]
    },
    {
      "cell_type": "code",
      "source": [
        "X_val_encoded_padded_words"
      ],
      "metadata": {
        "colab": {
          "base_uri": "https://localhost:8080/"
        },
        "id": "WGyrnR_t-yG1",
        "outputId": "756ce2b6-c680-4c81-a47f-71b934f8014a"
      },
      "execution_count": 38,
      "outputs": [
        {
          "output_type": "execute_result",
          "data": {
            "text/plain": [
              "array([[   3,   19,   98, ...,    0,    0,    0],\n",
              "       [  17,   32,   16, ...,    0,    0,    0],\n",
              "       [ 118,   78,   24, ...,    0,    0,    0],\n",
              "       ...,\n",
              "       [ 697,   95,   23, ...,    0,    0,    0],\n",
              "       [  33,   11,  167, ...,    0,    0,    0],\n",
              "       [1137,  360,    0, ...,    0,    0,    0]], dtype=int32)"
            ]
          },
          "metadata": {},
          "execution_count": 38
        }
      ]
    },
    {
      "cell_type": "code",
      "source": [
        "print(y_train.shape)\n",
        "print(y_val.shape)"
      ],
      "metadata": {
        "colab": {
          "base_uri": "https://localhost:8080/"
        },
        "id": "an70bjAv9oIs",
        "outputId": "fd223d31-bf8c-4aa2-97ca-8acdc28262e7"
      },
      "execution_count": 39,
      "outputs": [
        {
          "output_type": "stream",
          "name": "stdout",
          "text": [
            "(7726, 59)\n",
            "(3312, 59)\n"
          ]
        }
      ]
    },
    {
      "cell_type": "code",
      "source": [
        "# Build the model\n",
        "embedding_dim = 100\n",
        "model = Sequential()\n",
        "model.add(Embedding(input_dim=max_features, output_dim=embedding_dim, input_length=max_len))\n",
        "model.add(SpatialDropout1D(0.3))\n",
        "model.add(Conv1D(filters=128, kernel_size=5, activation='relu'))\n",
        "model.add(MaxPooling1D(pool_size=4))\n",
        "model.add(Bidirectional(LSTM(128, return_sequences=True, dropout=0.3, recurrent_dropout=0.3)))\n",
        "model.add(GlobalMaxPooling1D())\n",
        "model.add(Dense(128, activation='relu'))\n",
        "model.add(Dropout(0.5))\n",
        "model.add(Dense(y.shape[1], activation='softmax'))"
      ],
      "metadata": {
        "id": "XzYhIJwM_FX8"
      },
      "execution_count": 40,
      "outputs": []
    },
    {
      "cell_type": "code",
      "source": [
        "model.summary()"
      ],
      "metadata": {
        "colab": {
          "base_uri": "https://localhost:8080/"
        },
        "id": "sdTrpgEuDJN8",
        "outputId": "ed41046b-6295-4131-9c5a-2b31e1ed3d86"
      },
      "execution_count": 41,
      "outputs": [
        {
          "output_type": "stream",
          "name": "stdout",
          "text": [
            "Model: \"sequential\"\n",
            "_________________________________________________________________\n",
            " Layer (type)                Output Shape              Param #   \n",
            "=================================================================\n",
            " embedding (Embedding)       (None, 100, 100)          500000    \n",
            "                                                                 \n",
            " spatial_dropout1d (Spatial  (None, 100, 100)          0         \n",
            " Dropout1D)                                                      \n",
            "                                                                 \n",
            " conv1d (Conv1D)             (None, 96, 128)           64128     \n",
            "                                                                 \n",
            " max_pooling1d (MaxPooling1  (None, 24, 128)           0         \n",
            " D)                                                              \n",
            "                                                                 \n",
            " bidirectional (Bidirection  (None, 24, 256)           263168    \n",
            " al)                                                             \n",
            "                                                                 \n",
            " global_max_pooling1d (Glob  (None, 256)               0         \n",
            " alMaxPooling1D)                                                 \n",
            "                                                                 \n",
            " dense (Dense)               (None, 128)               32896     \n",
            "                                                                 \n",
            " dropout (Dropout)           (None, 128)               0         \n",
            "                                                                 \n",
            " dense_1 (Dense)             (None, 59)                7611      \n",
            "                                                                 \n",
            "=================================================================\n",
            "Total params: 867803 (3.31 MB)\n",
            "Trainable params: 867803 (3.31 MB)\n",
            "Non-trainable params: 0 (0.00 Byte)\n",
            "_________________________________________________________________\n"
          ]
        }
      ]
    },
    {
      "cell_type": "code",
      "source": [
        "# Compile the model\n",
        "\n",
        "model.compile(loss='categorical_crossentropy', optimizer='adam', metrics=['accuracy'])"
      ],
      "metadata": {
        "id": "xLq9wBewEio7"
      },
      "execution_count": 42,
      "outputs": []
    },
    {
      "cell_type": "code",
      "source": [
        "# Define callbacks\n",
        "early_stopping = EarlyStopping(monitor='val_loss', patience=5, restore_best_weights=True)\n",
        "model_checkpoint = ModelCheckpoint('models/vtech_model.h5', save_best_only=True, monitor='val_loss', mode='min')"
      ],
      "metadata": {
        "id": "JfRSJQ9fepzW"
      },
      "execution_count": 43,
      "outputs": []
    },
    {
      "cell_type": "code",
      "source": [
        "print(X_train_encoded_padded_words.shape)\n",
        "print(y_train.shape)\n",
        "\n",
        "print(X_val_encoded_padded_words.shape)\n",
        "print(y_val.shape)"
      ],
      "metadata": {
        "colab": {
          "base_uri": "https://localhost:8080/"
        },
        "id": "bYBLp-MrFGH9",
        "outputId": "23941acc-4e43-4d31-dc09-1e68e1806551"
      },
      "execution_count": 44,
      "outputs": [
        {
          "output_type": "stream",
          "name": "stdout",
          "text": [
            "(7726, 100)\n",
            "(7726, 59)\n",
            "(3312, 100)\n",
            "(3312, 59)\n"
          ]
        }
      ]
    },
    {
      "cell_type": "code",
      "source": [
        "# Train the model\n",
        "epochs = 30\n",
        "batch_size = 64\n",
        "history = model.fit(X_train_encoded_padded_words, y_train, epochs=epochs, batch_size=batch_size, verbose=1,\n",
        "                    validation_data=(X_val_encoded_padded_words, y_val), callbacks=[early_stopping, model_checkpoint])"
      ],
      "metadata": {
        "colab": {
          "base_uri": "https://localhost:8080/"
        },
        "id": "mnJUnzqneYzm",
        "outputId": "ea0ba3a0-4491-4298-cea4-3d45b7466f72"
      },
      "execution_count": 45,
      "outputs": [
        {
          "output_type": "stream",
          "name": "stdout",
          "text": [
            "Epoch 1/30\n",
            "121/121 [==============================] - ETA: 0s - loss: 4.0121 - accuracy: 0.0227"
          ]
        },
        {
          "output_type": "stream",
          "name": "stderr",
          "text": [
            "/usr/local/lib/python3.10/dist-packages/keras/src/engine/training.py:3103: UserWarning: You are saving your model as an HDF5 file via `model.save()`. This file format is considered legacy. We recommend using instead the native Keras format, e.g. `model.save('my_model.keras')`.\n",
            "  saving_api.save_model(\n"
          ]
        },
        {
          "output_type": "stream",
          "name": "stdout",
          "text": [
            "\b\b\b\b\b\b\b\b\b\b\b\b\b\b\b\b\b\b\b\b\b\b\b\b\b\b\b\b\b\b\b\b\b\b\b\b\b\b\b\b\b\b\b\b\b\b\b\b\b\b\b\b\b\b\b\b\b\b\b\b\b\b\b\b\b\b\b\b\b\b\b\b\b\b\b\b\b\b\b\b\b\b\b\b\r121/121 [==============================] - 61s 366ms/step - loss: 4.0121 - accuracy: 0.0227 - val_loss: 3.8020 - val_accuracy: 0.0365\n",
            "Epoch 2/30\n",
            "121/121 [==============================] - 36s 296ms/step - loss: 3.3071 - accuracy: 0.1052 - val_loss: 2.3588 - val_accuracy: 0.3285\n",
            "Epoch 3/30\n",
            "121/121 [==============================] - 38s 316ms/step - loss: 2.0048 - accuracy: 0.3752 - val_loss: 1.0375 - val_accuracy: 0.7286\n",
            "Epoch 4/30\n",
            "121/121 [==============================] - 37s 305ms/step - loss: 1.1234 - accuracy: 0.6320 - val_loss: 0.5144 - val_accuracy: 0.8720\n",
            "Epoch 5/30\n",
            "121/121 [==============================] - 39s 324ms/step - loss: 0.6794 - accuracy: 0.7857 - val_loss: 0.3114 - val_accuracy: 0.9245\n",
            "Epoch 6/30\n",
            "121/121 [==============================] - 36s 294ms/step - loss: 0.4553 - accuracy: 0.8606 - val_loss: 0.2389 - val_accuracy: 0.9366\n",
            "Epoch 7/30\n",
            "121/121 [==============================] - 36s 297ms/step - loss: 0.3329 - accuracy: 0.9009 - val_loss: 0.2072 - val_accuracy: 0.9469\n",
            "Epoch 8/30\n",
            "121/121 [==============================] - 38s 316ms/step - loss: 0.2564 - accuracy: 0.9261 - val_loss: 0.1858 - val_accuracy: 0.9523\n",
            "Epoch 9/30\n",
            "121/121 [==============================] - 38s 314ms/step - loss: 0.2135 - accuracy: 0.9383 - val_loss: 0.1842 - val_accuracy: 0.9526\n",
            "Epoch 10/30\n",
            "121/121 [==============================] - 38s 312ms/step - loss: 0.1746 - accuracy: 0.9531 - val_loss: 0.1885 - val_accuracy: 0.9529\n",
            "Epoch 11/30\n",
            "121/121 [==============================] - 35s 287ms/step - loss: 0.1460 - accuracy: 0.9601 - val_loss: 0.1869 - val_accuracy: 0.9547\n",
            "Epoch 12/30\n",
            "121/121 [==============================] - 35s 292ms/step - loss: 0.1465 - accuracy: 0.9556 - val_loss: 0.1769 - val_accuracy: 0.9571\n",
            "Epoch 13/30\n",
            "121/121 [==============================] - 35s 294ms/step - loss: 0.1185 - accuracy: 0.9658 - val_loss: 0.1804 - val_accuracy: 0.9568\n",
            "Epoch 14/30\n",
            "121/121 [==============================] - 37s 304ms/step - loss: 0.1148 - accuracy: 0.9669 - val_loss: 0.1739 - val_accuracy: 0.9611\n",
            "Epoch 15/30\n",
            "121/121 [==============================] - 35s 292ms/step - loss: 0.1108 - accuracy: 0.9689 - val_loss: 0.1709 - val_accuracy: 0.9638\n",
            "Epoch 16/30\n",
            "121/121 [==============================] - 35s 286ms/step - loss: 0.0979 - accuracy: 0.9720 - val_loss: 0.1723 - val_accuracy: 0.9626\n",
            "Epoch 17/30\n",
            "121/121 [==============================] - 37s 306ms/step - loss: 0.0920 - accuracy: 0.9746 - val_loss: 0.1731 - val_accuracy: 0.9607\n",
            "Epoch 18/30\n",
            "121/121 [==============================] - 35s 290ms/step - loss: 0.0843 - accuracy: 0.9750 - val_loss: 0.1786 - val_accuracy: 0.9632\n",
            "Epoch 19/30\n",
            "121/121 [==============================] - 35s 289ms/step - loss: 0.0749 - accuracy: 0.9785 - val_loss: 0.1798 - val_accuracy: 0.9635\n",
            "Epoch 20/30\n",
            "121/121 [==============================] - 35s 288ms/step - loss: 0.0730 - accuracy: 0.9795 - val_loss: 0.1957 - val_accuracy: 0.9626\n"
          ]
        }
      ]
    },
    {
      "cell_type": "code",
      "source": [
        "# Evaluate on validation set\n",
        "\n",
        "score = model.evaluate(X_val_encoded_padded_words, y_val, verbose=1)\n",
        "print('Test accuracy:', score[1])"
      ],
      "metadata": {
        "colab": {
          "base_uri": "https://localhost:8080/"
        },
        "id": "20p3v9b1FR6O",
        "outputId": "6ba12e75-40e4-471b-a929-a3207f570fc8"
      },
      "execution_count": 46,
      "outputs": [
        {
          "output_type": "stream",
          "name": "stdout",
          "text": [
            "104/104 [==============================] - 3s 28ms/step - loss: 0.1709 - accuracy: 0.9638\n",
            "Test accuracy: 0.9637681245803833\n"
          ]
        }
      ]
    },
    {
      "cell_type": "code",
      "source": [
        "# Predict function\n",
        "def predict_intent(text, model, tokenizer, max_len=100):\n",
        "    cleaned_text = clean_text(text)\n",
        "    encoded_text = tokenizer.texts_to_sequences([cleaned_text])\n",
        "    padded_text = pad_sequences(encoded_text, maxlen=max_len, padding='post')\n",
        "    prediction = model.predict(padded_text)\n",
        "    intent = y.columns[np.argmax(prediction)]\n",
        "    return intent"
      ],
      "metadata": {
        "id": "FTHME26YXqJs"
      },
      "execution_count": 47,
      "outputs": []
    },
    {
      "cell_type": "code",
      "source": [
        "# Example prediction\n",
        "example_text = \"My mailbox is overflowing, and I can't seem to delete enough emails to free up space. Can you help me empty it out?\"\n",
        "predicted_intent = predict_intent(example_text, model, tokenizer, max_len=100)\n",
        "print(f'Predicted intent: {predicted_intent}')"
      ],
      "metadata": {
        "id": "qCd0cTaNlcxr",
        "colab": {
          "base_uri": "https://localhost:8080/"
        },
        "outputId": "1d4ebed1-18f2-4437-c93f-23dff197410b"
      },
      "execution_count": 63,
      "outputs": [
        {
          "output_type": "stream",
          "name": "stdout",
          "text": [
            "1/1 [==============================] - 0s 48ms/step\n",
            "Predicted intent: Fn_Mail_Box_Full_OF\n"
          ]
        }
      ]
    },
    {
      "cell_type": "code",
      "source": [
        "# Save the tokenizer\n",
        "import pickle\n",
        "with open('models/tokenizer.pickle', 'wb') as handle:\n",
        "    pickle.dump(tokenizer, handle, protocol=pickle.HIGHEST_PROTOCOL)"
      ],
      "metadata": {
        "id": "4VGWjDbQ1M5W"
      },
      "execution_count": 49,
      "outputs": []
    },
    {
      "cell_type": "markdown",
      "source": [
        "# Testing"
      ],
      "metadata": {
        "id": "InpMet1i4i8j"
      }
    },
    {
      "cell_type": "code",
      "source": [
        "# Load the model\n",
        "model = load_model('models/vtech_model.h5')\n",
        "\n",
        "# Load the tokenizer\n",
        "import pickle\n",
        "with open('models/tokenizer.pickle', 'rb') as handle:\n",
        "    tokenizer = pickle.load(handle)\n",
        "\n",
        "# Define text cleaning function\n",
        "def clean_text(text):\n",
        "    text = text.lower()\n",
        "    text = re.sub(r'\\d+', '', text)\n",
        "    text = re.sub(r'[^\\w\\s]', '', text)\n",
        "    text = ' '.join([word for word in text.split() if word not in stopwords.words('english')])\n",
        "    return text\n",
        "\n",
        "# Predict function\n",
        "def predict_intent(text, model, tokenizer, max_len=100):\n",
        "    cleaned_text = clean_text(text)\n",
        "    encoded_text = tokenizer.texts_to_sequences([cleaned_text])\n",
        "    padded_text = pad_sequences(encoded_text, maxlen=max_len, padding='post')\n",
        "    prediction = model.predict(padded_text)\n",
        "    intent = y.columns[np.argmax(prediction)]\n",
        "    return intent\n",
        "\n",
        "# Example prediction\n",
        "example_text = \"My mailbox is overflowing, and I can't seem to delete enough emails to free up space. Can you help me empty it out?\"\n",
        "predicted_intent = predict_intent(example_text, model, tokenizer, max_len=100)\n",
        "print(f'Predicted intent: {predicted_intent}')"
      ],
      "metadata": {
        "colab": {
          "base_uri": "https://localhost:8080/"
        },
        "id": "C95xcvDm4gjl",
        "outputId": "01197901-c70a-4496-c41b-4e7ac35825da"
      },
      "execution_count": 65,
      "outputs": [
        {
          "output_type": "stream",
          "name": "stdout",
          "text": [
            "1/1 [==============================] - 0s 491ms/step\n",
            "Predicted intent: Fn_Mail_Box_Full_OF\n"
          ]
        }
      ]
    },
    {
      "cell_type": "code",
      "source": [],
      "metadata": {
        "id": "__drKd4i420i"
      },
      "execution_count": null,
      "outputs": []
    }
  ]
}